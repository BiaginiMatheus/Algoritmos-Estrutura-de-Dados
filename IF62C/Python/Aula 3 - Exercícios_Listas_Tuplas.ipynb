{
 "cells": [
  {
   "cell_type": "markdown",
   "metadata": {},
   "source": [
    "## Praticando com Listas e Dicionário"
   ]
  },
  {
   "cell_type": "markdown",
   "metadata": {},
   "source": [
    "## Exercícios - Entrega: 14/Maio\n",
    "\n",
    "Responda as perguntas ou complete as tarefas descritas em negrito abaixo, use o método específico, se aplicável."
   ]
  },
  {
   "cell_type": "markdown",
   "metadata": {},
   "source": [
    " ### 1) Dada a lista abaixo, use indexação para imprimir apenas a string \"ola\"."
   ]
  },
  {
   "cell_type": "code",
   "execution_count": null,
   "metadata": {},
   "outputs": [],
   "source": [
    "lst = [1,2,[3,4],[5,[100,200,['ola']],23,11],1,7]\n",
    "print(lst)"
   ]
  },
  {
   "cell_type": "code",
   "execution_count": null,
   "metadata": {},
   "outputs": [],
   "source": []
  },
  {
   "cell_type": "markdown",
   "metadata": {},
   "source": [
    "### 2) Dado o seguinte dicionário aninhado, extraia a palavra \"ola\"."
   ]
  },
  {
   "cell_type": "code",
   "execution_count": null,
   "metadata": {},
   "outputs": [],
   "source": [
    "d = {'c1':10, 'c2':'Joao','c3':[10,20,30,'ola']}\n",
    "print(d)"
   ]
  },
  {
   "cell_type": "code",
   "execution_count": null,
   "metadata": {},
   "outputs": [],
   "source": []
  },
  {
   "cell_type": "markdown",
   "metadata": {},
   "source": [
    "### 3) Contando Letras\n",
    "* Faça uma função que dada uma string, retorna a letra mais comum\n",
    "nessa string (em caso de empate retorne qualquer uma das mais\n",
    "frequentes).\n",
    "\n",
    "Ideia: usar um dicionário para contar cada letra.\n",
    "\n",
    "A letra é a chave do dicionário, e o valor será quantas vezes a letra foi \n",
    "encontrada."
   ]
  },
  {
   "cell_type": "code",
   "execution_count": null,
   "metadata": {},
   "outputs": [],
   "source": [
    "\n"
   ]
  },
  {
   "cell_type": "markdown",
   "metadata": {},
   "source": [
    "### 4) Intervalo\n",
    "- Faça um programa que leia uma quantidade indeterminada de números\n",
    " positivos e conte quantos deles estão nos seguintes intervalos: \n",
    "- [0-25],[26-50], [51-75] e [76-100]. \n",
    "\n",
    "A entrada de dados deverá terminar quando for lido um número negativo."
   ]
  },
  {
   "cell_type": "code",
   "execution_count": null,
   "metadata": {},
   "outputs": [],
   "source": []
  },
  {
   "cell_type": "markdown",
   "metadata": {},
   "source": [
    "### 5) Palíndromo\n",
    "- Faça um programa que lê uma string em uma lista e imprime “Palíndromo” caso a\n",
    "string seja um palíndromo e “Não é palíndromo” caso não seja.\n",
    "- ○ Assuma que a entrada não tem acentos e que todas as letras são\n",
    "minúsculas.\n",
    "- Obs: Um palíndromo é uma palavra ou frase, que é igual quando lida da\n",
    "esquerda para a direita ou da direita para a esquerda (espaços em\n",
    "brancos são descartados).\n",
    "- Exemplos de palíndromo: “ovo”, “reviver”, “mega bobagem”,\n",
    "“anotaram a data da maratona”"
   ]
  },
  {
   "cell_type": "code",
   "execution_count": null,
   "metadata": {},
   "outputs": [],
   "source": []
  }
 ],
 "metadata": {
  "kernelspec": {
   "display_name": "Python 3",
   "language": "python",
   "name": "python3"
  },
  "language_info": {
   "codemirror_mode": {
    "name": "ipython",
    "version": 3
   },
   "file_extension": ".py",
   "mimetype": "text/x-python",
   "name": "python",
   "nbconvert_exporter": "python",
   "pygments_lexer": "ipython3",
   "version": "3.6.9"
  }
 },
 "nbformat": 4,
 "nbformat_minor": 1
}
