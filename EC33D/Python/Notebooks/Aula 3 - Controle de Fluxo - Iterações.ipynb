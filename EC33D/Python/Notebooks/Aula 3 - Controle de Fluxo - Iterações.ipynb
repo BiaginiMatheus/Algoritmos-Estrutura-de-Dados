{
 "cells": [
  {
   "cell_type": "markdown",
   "metadata": {
    "slideshow": {
     "slide_type": "slide"
    }
   },
   "source": [
    "# Controle de Fluxo - Iterações\n",
    "\n",
    "Até agora vimos como escrever programas capazes de executar comandos de forma linear, e, se necessário, tomar decisões com relação a executar ou não um bloco de comandos.\n",
    "Entretanto, eventualmente faz-se necessário executar um bloco de comandos várias vezes para obter o resultado esperado. A execução repetida de um conjunto de instruções é chamada de iteração. Python tem duas instruções para iteração - a declaração **for**, e a instrução **while**."
   ]
  },
  {
   "cell_type": "markdown",
   "metadata": {
    "slideshow": {
     "slide_type": "slide"
    }
   },
   "source": [
    "## Laços **while**"
   ]
  },
  {
   "cell_type": "markdown",
   "metadata": {
    "slideshow": {
     "slide_type": "fragment"
    }
   },
   "source": [
    "Executa um bloco de código atendendo a uma condição.\n",
    "\n",
    "Sintaxe:\n",
    "```python\n",
    "    while <condição>:\n",
    "        <bloco de código>\n",
    "        continue\n",
    "        break\n",
    "    else:\n",
    "        <bloco de código>\n",
    "```            \n",
    "O bloco de código dentro do laço `while` é repetido enquanto a condição do laço estiver sendo avaliada como verdadeira."
   ]
  },
  {
   "cell_type": "markdown",
   "metadata": {
    "slideshow": {
     "slide_type": "slide"
    }
   },
   "source": [
    "## Laços **for**\n",
    "\n",
    "É a estrutura de repetição mais usada no Python. A instrução aceita não só sequências estáticas, mas também sequências geradas por iteradores. Iteradores são estruturas que permitem iterações, ou seja, acesso aos itens de uma coleção de elementos, de forma sequencial. Nós estudaremos iteradores mais à frente."
   ]
  },
  {
   "cell_type": "markdown",
   "metadata": {
    "slideshow": {
     "slide_type": "slide"
    }
   },
   "source": [
    "Durante a execução de um laço *for*, a variável aponta para um elemento da sequência. A cada iteração, a variável é atualizada, para que o bloco de código do *for* processe o elemento correspondente.\n",
    "\n",
    "As cláusula opcional *break* interrompe o laço e a cláusula opcional *continue* passa para a próxima iteração. O código dentro do *else* (opcional) é executado ao final do laço, a não ser que o laço tenha sido interrompido por *break*.\n",
    "\n",
    "Sintaxe:\n",
    "```python\n",
    "    for <variable> in <sequência>:\n",
    "        <bloco de código>\n",
    "        continue\n",
    "        break\n",
    "    else:\n",
    "        <bloco de código>\n",
    "```"
   ]
  },
  {
   "cell_type": "markdown",
   "metadata": {
    "slideshow": {
     "slide_type": "slide"
    }
   },
   "source": [
    "## A função `range`\n",
    "\n",
    "A função `range()` retorna uma série numérica no intervalo enviado como argumento.\n",
    "A série retornada é um objeto iterável  tipo range e os elementos contidos serão gerados sob demanda.\n",
    "É comum o uso da função `range()` com laços for."
   ]
  },
  {
   "cell_type": "code",
   "execution_count": null,
   "metadata": {
    "slideshow": {
     "slide_type": "fragment"
    }
   },
   "outputs": [],
   "source": [
    "range( stop )                  #primeira definição ou definição simplificada\n",
    "range( [start], stop[, step] ) #segunda definição ou definição completa"
   ]
  },
  {
   "cell_type": "markdown",
   "metadata": {
    "slideshow": {
     "slide_type": "fragment"
    }
   },
   "source": [
    "A função `range()` exige a definição do último elemento da sequência numérica. Por padrão, o parâmetro start será igual a 0 e o step igual a 1:\n",
    "\n",
    "- start - valor onde o intervalo deve começar\n",
    "- stop - valor (menos um) onde o intervalo deve finalizar\n",
    "- step - passo (intervalo entre os elementos da sequência)\n"
   ]
  },
  {
   "cell_type": "markdown",
   "metadata": {
    "slideshow": {
     "slide_type": "slide"
    }
   },
   "source": [
    "Note que o parâmetro stop possui o intervalo aberto, isto é, o número definido não estará contido na sequência numérica:"
   ]
  },
  {
   "cell_type": "code",
   "execution_count": null,
   "metadata": {
    "slideshow": {
     "slide_type": "fragment"
    }
   },
   "outputs": [],
   "source": [
    "for num in range(5):\n",
    "    print(num)"
   ]
  },
  {
   "cell_type": "markdown",
   "metadata": {
    "slideshow": {
     "slide_type": "slide"
    }
   },
   "source": [
    "### Exercício 1: \n",
    "#### A soma dos números impares no intervalo de 0 a 100, usando uma variável acumuladora.\n"
   ]
  },
  {
   "cell_type": "code",
   "execution_count": null,
   "metadata": {
    "code_folding": [],
    "slideshow": {
     "slide_type": "fragment"
    }
   },
   "outputs": [],
   "source": [
    "soma = 0\n",
    "for impar in range(1, 100, 2):\n",
    "    soma = soma + impar\n",
    "print(\"A soma dos impares até 100 é: \", soma)"
   ]
  },
  {
   "cell_type": "markdown",
   "metadata": {
    "slideshow": {
     "slide_type": "slide"
    }
   },
   "source": [
    "### Exercício 2:\n",
    "- Leia um inteiro positivo $n$, e imprima as potências: $2^0$, $2^1$, . . . , $2^n$.\n",
    "Dica: Use uma variável acumuladora que no início da i-ésima iteração de um laço, possui o valor $2^i$. Imprima este valor e atualize a variável acumuladora para a próxima iteração, multiplicando esta variável por 2."
   ]
  },
  {
   "cell_type": "code",
   "execution_count": null,
   "metadata": {
    "code_folding": [
     0
    ],
    "slideshow": {
     "slide_type": "fragment"
    }
   },
   "outputs": [],
   "source": [
    "# solução\n",
    "n = int(input(\"Forneça a maior potência: \"))\n",
    "p = 1\n",
    "for i in range(n + 1):\n",
    "    print(f\"2 elevado à potencia {i} é igual a {p}\")\n",
    "    p = p * 2"
   ]
  }
 ],
 "metadata": {
  "kernelspec": {
   "display_name": "Python 3",
   "language": "python",
   "name": "python3"
  },
  "language_info": {
   "codemirror_mode": {
    "name": "ipython",
    "version": 3
   },
   "file_extension": ".py",
   "mimetype": "text/x-python",
   "name": "python",
   "nbconvert_exporter": "python",
   "pygments_lexer": "ipython3",
   "version": "3.6.9"
  },
  "latex_envs": {
   "LaTeX_envs_menu_present": true,
   "autoclose": false,
   "autocomplete": true,
   "bibliofile": "biblio.bib",
   "cite_by": "apalike",
   "current_citInitial": 1,
   "eqLabelWithNumbers": true,
   "eqNumInitial": 1,
   "hotkeys": {
    "equation": "Ctrl-E",
    "itemize": "Ctrl-I"
   },
   "labels_anchors": false,
   "latex_user_defs": false,
   "report_style_numbering": false,
   "user_envs_cfg": false
  },
  "livereveal": {
   "theme": "solarized",
   "transition": "slide"
  },
  "toc": {
   "nav_menu": {},
   "number_sections": true,
   "sideBar": true,
   "skip_h1_title": false,
   "toc_cell": true,
   "toc_position": {
    "height": "565px",
    "left": "0px",
    "right": "1068px",
    "top": "111px",
    "width": "212px"
   },
   "toc_section_display": "block",
   "toc_window_display": false
  }
 },
 "nbformat": 4,
 "nbformat_minor": 2
}
