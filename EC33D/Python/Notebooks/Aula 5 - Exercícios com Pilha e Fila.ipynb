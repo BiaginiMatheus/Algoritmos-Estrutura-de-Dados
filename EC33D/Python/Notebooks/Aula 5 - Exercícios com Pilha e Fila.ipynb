{
 "cells": [
  {
   "cell_type": "markdown",
   "id": "labeled-census",
   "metadata": {},
   "source": [
    "# <center>Atividade Prática valendo nota</center>\n",
    "## <center> Entrega: 05/Maio </center>"
   ]
  },
  {
   "cell_type": "markdown",
   "id": "rapid-speed",
   "metadata": {},
   "source": [
    "### Atividade Prática 1: Pilha com lista encadeada\n",
    "\n",
    "Criar uma pilha utilizando listas encadeadas. Algumas dicas:\n",
    "\n",
    "- Use uma lista encadeada simples com a classe Node;\n",
    "\n",
    "- Crie uma nova classe chamada PilhaListaEncadeada;\n",
    "\n",
    "- Função empilhar\n",
    "\n",
    "- Função desempilhar\n",
    "\n",
    "- Função pilha_vazia\n",
    "\n",
    "- Função ver_topo\n"
   ]
  },
  {
   "cell_type": "code",
   "execution_count": null,
   "id": "floppy-atlanta",
   "metadata": {},
   "outputs": [],
   "source": []
  },
  {
   "cell_type": "markdown",
   "id": "moved-parallel",
   "metadata": {},
   "source": [
    "### Atividade Prática 2: Fila com lista duplamente encadeada\n",
    "\n",
    "Criar uma fila utilizando listas duplamente encadeadas. Algumas dicas:\n",
    "\n",
    "- Use a lista duplamente encadeada para controlar o início e o final da fila\n",
    "\n",
    "- Crie uma nova classe chamada FilaListaEncadeada;\n",
    "\n",
    "- enfileirar\n",
    "\n",
    "- desenfileirar\n",
    "\n",
    "- fila_vazia\n",
    "\n",
    "- ver_inicio\n",
    "\n"
   ]
  },
  {
   "cell_type": "code",
   "execution_count": null,
   "id": "attached-spyware",
   "metadata": {},
   "outputs": [],
   "source": []
  },
  {
   "cell_type": "markdown",
   "id": "funded-nelson",
   "metadata": {},
   "source": [
    "### Dicas de implementação:\n",
    "https://www.geeksforgeeks.org/implement-a-stack-using-singly-linked-list/\n",
    "\n",
    "https://www.geeksforgeeks.org/queue-linked-list-implementation/\n",
    "\n",
    "https://medium.com/@starimela95/implementing-linked-lists-queue-stack-in-python-44ffca6edf04"
   ]
  }
 ],
 "metadata": {
  "kernelspec": {
   "display_name": "Python 3",
   "language": "python",
   "name": "python3"
  },
  "language_info": {
   "codemirror_mode": {
    "name": "ipython",
    "version": 3
   },
   "file_extension": ".py",
   "mimetype": "text/x-python",
   "name": "python",
   "nbconvert_exporter": "python",
   "pygments_lexer": "ipython3",
   "version": "3.6.9"
  }
 },
 "nbformat": 4,
 "nbformat_minor": 5
}
