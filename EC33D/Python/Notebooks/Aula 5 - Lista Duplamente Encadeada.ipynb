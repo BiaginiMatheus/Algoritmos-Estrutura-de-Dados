{
 "cells": [
  {
   "cell_type": "markdown",
   "metadata": {
    "id": "c9BudZ2gNE2n"
   },
   "source": [
    "# Exemplo de Lista Duplamente Encadeada\n",
    "\n",
    "Crie uma classe chamada Node que simula a struct Lista:\n",
    "\n",
    "Atributos (variáveis internas)\n",
    "- valor\n",
    "- prox\n",
    "- ant\n",
    "- Crie um construtor para a classe (__init__)\n",
    "\n",
    "Crie as seguintes funções (métodos):\n",
    "\n",
    "- imprimeNode\n",
    "- insereIni\n",
    "- insereFim\n",
    "- removeNode"
   ]
  },
  {
   "cell_type": "code",
   "execution_count": 13,
   "metadata": {
    "id": "iYgw0XGvM0Xz"
   },
   "outputs": [],
   "source": [
    "# Similar a struct Lista em C\n",
    "class Node:\n",
    "  def __init__(self, info):\n",
    "    self.valor = info\n",
    "    self.prox = None\n",
    "    self.ant = None\n",
    "  \n",
    "  def imprimeNode(self):\n",
    "    return self.valor"
   ]
  },
  {
   "cell_type": "code",
   "execution_count": 14,
   "metadata": {},
   "outputs": [],
   "source": [
    "def imprime(node):\n",
    "    aux = node\n",
    "    while aux!=None:\n",
    "        print(aux.valor)\n",
    "        aux = aux.prox    "
   ]
  },
  {
   "cell_type": "code",
   "execution_count": 15,
   "metadata": {},
   "outputs": [],
   "source": [
    "def imprimeInvertido(node):\n",
    "    aux = node\n",
    "    \n",
    "    while aux.prox != None:\n",
    "        aux = aux.prox\n",
    "        \n",
    "    while aux!=None:\n",
    "        print(aux.valor)\n",
    "        aux = aux.ant        "
   ]
  },
  {
   "cell_type": "code",
   "execution_count": 16,
   "metadata": {},
   "outputs": [],
   "source": [
    "def insereIni(node, info):\n",
    "    novo = Node(info)\n",
    "    novo.prox = node\n",
    "    novo.ant = None\n",
    "    \n",
    "    if node != None:\n",
    "        node.ant = novo\n",
    "    \n",
    "    return novo"
   ]
  },
  {
   "cell_type": "code",
   "execution_count": 17,
   "metadata": {},
   "outputs": [],
   "source": [
    "def insereFim(node, info):\n",
    "    aux = node\n",
    "    novo = Node(info)\n",
    "    novo.prox = None\n",
    "    novo.ant = None\n",
    "    \n",
    "    if node == None:\n",
    "        return novo\n",
    "    \n",
    "    while aux.prox != None:\n",
    "        aux = aux.prox\n",
    "    \n",
    "    aux.prox = novo\n",
    "    novo.ant = aux"
   ]
  },
  {
   "cell_type": "code",
   "execution_count": 18,
   "metadata": {},
   "outputs": [],
   "source": [
    "novo = Node(10)"
   ]
  },
  {
   "cell_type": "code",
   "execution_count": 19,
   "metadata": {},
   "outputs": [],
   "source": [
    "ref = novo"
   ]
  },
  {
   "cell_type": "code",
   "execution_count": 20,
   "metadata": {},
   "outputs": [],
   "source": [
    "ref = insereIni(ref, 20)\n",
    "ref = insereIni(ref, 30)\n",
    "ref = insereIni(ref, 40)\n",
    "ref = insereIni(ref, 50)"
   ]
  },
  {
   "cell_type": "code",
   "execution_count": 21,
   "metadata": {},
   "outputs": [
    {
     "name": "stdout",
     "output_type": "stream",
     "text": [
      "50\n",
      "40\n",
      "30\n",
      "20\n",
      "10\n"
     ]
    }
   ],
   "source": [
    "imprime(ref)"
   ]
  },
  {
   "cell_type": "code",
   "execution_count": 22,
   "metadata": {},
   "outputs": [],
   "source": [
    "insereFim(ref, 80)"
   ]
  },
  {
   "cell_type": "code",
   "execution_count": 23,
   "metadata": {},
   "outputs": [
    {
     "name": "stdout",
     "output_type": "stream",
     "text": [
      "50\n",
      "40\n",
      "30\n",
      "20\n",
      "10\n",
      "80\n"
     ]
    }
   ],
   "source": [
    "imprime(ref)"
   ]
  },
  {
   "cell_type": "code",
   "execution_count": 24,
   "metadata": {},
   "outputs": [
    {
     "name": "stdout",
     "output_type": "stream",
     "text": [
      "80\n",
      "10\n",
      "20\n",
      "30\n",
      "40\n",
      "50\n"
     ]
    }
   ],
   "source": [
    "imprimeInvertido(ref)"
   ]
  }
 ],
 "metadata": {
  "colab": {
   "collapsed_sections": [],
   "name": "Python Exercício Orientação a Objetos.ipynb",
   "provenance": []
  },
  "kernelspec": {
   "display_name": "Python 3",
   "language": "python",
   "name": "python3"
  },
  "language_info": {
   "codemirror_mode": {
    "name": "ipython",
    "version": 3
   },
   "file_extension": ".py",
   "mimetype": "text/x-python",
   "name": "python",
   "nbconvert_exporter": "python",
   "pygments_lexer": "ipython3",
   "version": "3.6.9"
  }
 },
 "nbformat": 4,
 "nbformat_minor": 1
}
