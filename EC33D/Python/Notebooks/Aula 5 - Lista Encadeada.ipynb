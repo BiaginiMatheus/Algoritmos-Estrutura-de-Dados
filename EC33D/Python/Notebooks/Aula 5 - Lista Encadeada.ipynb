{
 "cells": [
  {
   "cell_type": "markdown",
   "metadata": {
    "id": "c9BudZ2gNE2n"
   },
   "source": [
    "# Exemplo de Lista Encadeada\n",
    "\n",
    "Crie uma classe chamada Node que simula a struct Lista:\n",
    "\n",
    "Atributos (variáveis internas)\n",
    "- valor\n",
    "- prox\n",
    "- Crie um construtor para a classe (__init__)\n",
    "\n",
    "Crie as seguintes funções (métodos):\n",
    "\n",
    "- imprimeNode\n",
    "- insereIni\n",
    "- insereFim\n",
    "- removeNode"
   ]
  },
  {
   "cell_type": "code",
   "execution_count": 1,
   "metadata": {
    "id": "iYgw0XGvM0Xz"
   },
   "outputs": [],
   "source": [
    "# Similar a struct Lista em C\n",
    "class Node:\n",
    "  def __init__(self, info):\n",
    "    self.valor = info\n",
    "    self.prox = None\n",
    "  \n",
    "  def imprimeNode(self):\n",
    "    return self.valor"
   ]
  },
  {
   "cell_type": "code",
   "execution_count": 2,
   "metadata": {},
   "outputs": [],
   "source": [
    "def imprime(node):\n",
    "    aux = node\n",
    "    while aux!=None:\n",
    "        print(aux.valor)\n",
    "        aux = aux.prox    "
   ]
  },
  {
   "cell_type": "code",
   "execution_count": 4,
   "metadata": {},
   "outputs": [],
   "source": [
    "def insereIni(node, info):\n",
    "    novo = Node(info)\n",
    "    novo.prox = node\n",
    "    \n",
    "    return novo"
   ]
  },
  {
   "cell_type": "code",
   "execution_count": 5,
   "metadata": {},
   "outputs": [],
   "source": [
    "def insereFim(node, info):\n",
    "    aux = node\n",
    "    novo = Node(info)\n",
    "    novo.prox = None\n",
    "    \n",
    "    while aux.prox != None:\n",
    "        aux = aux.prox\n",
    "    \n",
    "    aux.prox = novo    "
   ]
  },
  {
   "cell_type": "code",
   "execution_count": 100,
   "metadata": {},
   "outputs": [],
   "source": [
    "def removeNode(node, valor):\n",
    "    \n",
    "    if node == None: # Lista vazia      \n",
    "       return None\n",
    "    \n",
    "    atual = node\n",
    "    anterior = None\n",
    "    \n",
    "    while atual!= None and atual.valor != valor:      \n",
    "      if atual.prox == None: #Se lista tem 1 elemento, retorna None\n",
    "        return None\n",
    "      else:\n",
    "        anterior = atual\n",
    "        atual = atual.prox\n",
    "    \n",
    "    if atual == None: # O elemento não está na lista\n",
    "        return node\n",
    "    \n",
    "    if anterior == None:\n",
    "      node = node.prox\n",
    "    else:\n",
    "      anterior.prox = atual.prox\n",
    "\n",
    "    return node"
   ]
  },
  {
   "cell_type": "code",
   "execution_count": 101,
   "metadata": {},
   "outputs": [],
   "source": [
    "novo = Node(10)"
   ]
  },
  {
   "cell_type": "code",
   "execution_count": 102,
   "metadata": {},
   "outputs": [],
   "source": [
    "ref = novo"
   ]
  },
  {
   "cell_type": "code",
   "execution_count": 103,
   "metadata": {},
   "outputs": [],
   "source": [
    "ref = insereIni(ref, 20)\n",
    "ref = insereIni(ref, 30)\n",
    "ref = insereIni(ref, 40)\n",
    "ref = insereIni(ref, 50)"
   ]
  },
  {
   "cell_type": "code",
   "execution_count": 104,
   "metadata": {},
   "outputs": [
    {
     "name": "stdout",
     "output_type": "stream",
     "text": [
      "50\n",
      "40\n",
      "30\n",
      "20\n",
      "10\n"
     ]
    }
   ],
   "source": [
    "imprime(ref)"
   ]
  },
  {
   "cell_type": "code",
   "execution_count": 105,
   "metadata": {},
   "outputs": [],
   "source": [
    "insereFim(ref, 80)"
   ]
  },
  {
   "cell_type": "code",
   "execution_count": 106,
   "metadata": {},
   "outputs": [
    {
     "name": "stdout",
     "output_type": "stream",
     "text": [
      "50\n",
      "40\n",
      "30\n",
      "20\n",
      "10\n",
      "80\n"
     ]
    }
   ],
   "source": [
    "imprime(ref)"
   ]
  },
  {
   "cell_type": "code",
   "execution_count": 107,
   "metadata": {},
   "outputs": [],
   "source": [
    "ref = removeNode(ref, 50)"
   ]
  },
  {
   "cell_type": "code",
   "execution_count": 108,
   "metadata": {},
   "outputs": [
    {
     "data": {
      "text/plain": [
       "40"
      ]
     },
     "execution_count": 108,
     "metadata": {},
     "output_type": "execute_result"
    }
   ],
   "source": [
    "ref.valor"
   ]
  },
  {
   "cell_type": "code",
   "execution_count": 112,
   "metadata": {},
   "outputs": [
    {
     "name": "stdout",
     "output_type": "stream",
     "text": [
      "40\n",
      "30\n",
      "10\n",
      "80\n"
     ]
    }
   ],
   "source": [
    "imprime(ref)"
   ]
  },
  {
   "cell_type": "code",
   "execution_count": 110,
   "metadata": {},
   "outputs": [],
   "source": [
    "ref = removeNode(ref, 20)"
   ]
  },
  {
   "cell_type": "code",
   "execution_count": 111,
   "metadata": {},
   "outputs": [
    {
     "data": {
      "text/plain": [
       "<__main__.Node at 0x7f6da418c240>"
      ]
     },
     "execution_count": 111,
     "metadata": {},
     "output_type": "execute_result"
    }
   ],
   "source": [
    "ref"
   ]
  }
 ],
 "metadata": {
  "colab": {
   "collapsed_sections": [],
   "name": "Python Exercício Orientação a Objetos.ipynb",
   "provenance": []
  },
  "kernelspec": {
   "display_name": "Python 3",
   "language": "python",
   "name": "python3"
  },
  "language_info": {
   "codemirror_mode": {
    "name": "ipython",
    "version": 3
   },
   "file_extension": ".py",
   "mimetype": "text/x-python",
   "name": "python",
   "nbconvert_exporter": "python",
   "pygments_lexer": "ipython3",
   "version": "3.6.9"
  }
 },
 "nbformat": 4,
 "nbformat_minor": 1
}
